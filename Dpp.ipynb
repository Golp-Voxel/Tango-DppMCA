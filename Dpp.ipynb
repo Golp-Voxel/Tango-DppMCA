{
 "cells": [
  {
   "cell_type": "code",
   "execution_count": 1,
   "metadata": {},
   "outputs": [],
   "source": [
    "import usb\n",
    "import codecs\n",
    "import struct"
   ]
  },
  {
   "cell_type": "code",
   "execution_count": 2,
   "metadata": {},
   "outputs": [
    {
     "name": "stdout",
     "output_type": "stream",
     "text": [
      "b'\\xf5\\xfa\\x01\\x01\\x00\\x00\\xfe\\x0f'\n"
     ]
    }
   ],
   "source": [
    "LIBUSB_TIMEOUT = 500\n",
    "\n",
    "REQUEST_STATUS_PACKET = bytes.fromhex('F5FA01010000FE0F')              # Request Status Packet\n",
    "REQUEST_SPECTRUM_PACKET = bytes.fromhex('F5FA02010000FE0E')            # Request Spectrum Packet\n",
    "REQUEST_SPECTRUM_STATUS_PACKET = bytes.fromhex('F5FA02030000FE0C')     # Request Spectrum Status Packet\n",
    "\n",
    "CLEAR_SPECTRUM_BUFFER = bytes.fromhex('F5FAF0010000FD20')              # Clear Spectrum Buffer\n",
    "ENABLE_MCA_MCS = bytes.fromhex('F5FAF0020000FD1F')                     # Enable MCA MCS\n",
    "DISABLE_MCA_MCS = bytes.fromhex('F5FAF0030000FD1E')                    # Disable MCA MCS\n",
    "\n",
    "ACK_RESPONSE = bytes.fromhex('F5FAFF000000FD12')                       # Ack 0 response, message is OK\n",
    "\n",
    "print(REQUEST_STATUS_PACKET)"
   ]
  },
  {
   "cell_type": "code",
   "execution_count": 3,
   "metadata": {},
   "outputs": [
    {
     "name": "stdout",
     "output_type": "stream",
     "text": [
      "4292\n",
      "33834\n"
     ]
    }
   ],
   "source": [
    "\n",
    "VENDOR = 0x10C4\n",
    "PRODUCT = 0x842A\n",
    "for bus in usb.busses():\n",
    "    for dev in bus.devices:\n",
    "        if dev.idVendor == VENDOR and dev.idProduct == PRODUCT:\n",
    "            print(VENDOR)\n",
    "            print(PRODUCT)\n",
    "            device = dev"
   ]
  },
  {
   "cell_type": "code",
   "execution_count": 4,
   "metadata": {},
   "outputs": [],
   "source": [
    "\n",
    "CONFIGURATION = 1\n",
    "INTERFACE = 0\n",
    "ENDPOINT_IN = 0x81\n",
    "ENDPOINT_OUT = 0x02\n",
    "\n",
    "handle = device.open()\n",
    "handle.setConfiguration(CONFIGURATION)\n",
    "handle.claimInterface(INTERFACE)"
   ]
  },
  {
   "cell_type": "code",
   "execution_count": 5,
   "metadata": {},
   "outputs": [],
   "source": [
    "def write( buffer, timeout = 0):\n",
    "        return handle.bulkWrite(ENDPOINT_OUT, buffer, timeout)\n",
    "\n",
    "def read(length, timeout = 0):\n",
    "         return handle.bulkRead(ENDPOINT_IN, length, timeout)"
   ]
  },
  {
   "cell_type": "code",
   "execution_count": 6,
   "metadata": {},
   "outputs": [
    {
     "name": "stdout",
     "output_type": "stream",
     "text": [
      "Bytes Out = 8\n"
     ]
    }
   ],
   "source": [
    "\n",
    "\n",
    "iNumBytes = write(REQUEST_STATUS_PACKET, LIBUSB_TIMEOUT)\n",
    "\n",
    "if iNumBytes  > 0:\n",
    "    print ('Bytes Out =',iNumBytes )    # debug\n",
    "    bArrArrBuffer = read(128, LIBUSB_TIMEOUT)\n",
    "    bArrStatusIn = bytearray(bArrArrBuffer)\n"
   ]
  },
  {
   "cell_type": "code",
   "execution_count": 7,
   "metadata": {},
   "outputs": [
    {
     "name": "stdout",
     "output_type": "stream",
     "text": [
      "array('B', [245, 250, 128, 1, 0, 64, 74, 69, 2, 0, 27, 150, 0, 0, 148, 26, 0, 0, 11, 159, 161, 24, 32, 101, 51, 0, 44, 71, 159, 9, 106, 119, 163, 150, 0, 0, 6, 63, 8, 45, 27, 47, 0, 4, 192, 0, 0, 0, 0, 20, 2, 189, 0, 0, 127, 80, 0, 0, 0, 0, 0, 0, 0, 0, 0, 0, 0, 0, 0, 0, 242])\n"
     ]
    }
   ],
   "source": [
    "print(bArrArrBuffer[0:-1])"
   ]
  },
  {
   "cell_type": "code",
   "execution_count": 8,
   "metadata": {},
   "outputs": [
    {
     "name": "stdout",
     "output_type": "stream",
     "text": [
      "4a4502001b960000941a00000b9fa118206533002c479f096a77a3960000063f082d1b2f0004c0000000001402bd00007f500000000000000000000000000000\n"
     ]
    },
    {
     "ename": "UnicodeDecodeError",
     "evalue": "'utf-8' codec can't decode byte 0x96 in position 5: invalid start byte",
     "output_type": "error",
     "traceback": [
      "\u001b[1;31m---------------------------------------------------------------------------\u001b[0m",
      "\u001b[1;31mUnicodeDecodeError\u001b[0m                        Traceback (most recent call last)",
      "Cell \u001b[1;32mIn[8], line 7\u001b[0m\n\u001b[0;32m      5\u001b[0m hex_string \u001b[38;5;241m=\u001b[39m byte_data\u001b[38;5;241m.\u001b[39mhex()\n\u001b[0;32m      6\u001b[0m \u001b[38;5;28mprint\u001b[39m(hex_string)\n\u001b[1;32m----> 7\u001b[0m result_string \u001b[38;5;241m=\u001b[39m \u001b[43mcodecs\u001b[49m\u001b[38;5;241;43m.\u001b[39;49m\u001b[43mdecode\u001b[49m\u001b[43m(\u001b[49m\u001b[43mhex_string\u001b[49m\u001b[43m,\u001b[49m\u001b[43m \u001b[49m\u001b[38;5;124;43m'\u001b[39;49m\u001b[38;5;124;43mhex\u001b[39;49m\u001b[38;5;124;43m'\u001b[39;49m\u001b[43m)\u001b[49m\u001b[38;5;241;43m.\u001b[39;49m\u001b[43mdecode\u001b[49m\u001b[43m(\u001b[49m\u001b[38;5;124;43m'\u001b[39;49m\u001b[38;5;124;43mutf-8\u001b[39;49m\u001b[38;5;124;43m'\u001b[39;49m\u001b[43m)\u001b[49m\n\u001b[0;32m      8\u001b[0m \u001b[38;5;28mprint\u001b[39m(result_string)\n",
      "\u001b[1;31mUnicodeDecodeError\u001b[0m: 'utf-8' codec can't decode byte 0x96 in position 5: invalid start byte"
     ]
    }
   ],
   "source": [
    "# Convert the list of integers to a bytearray\n",
    "byte_data = bytearray(bArrStatusIn[6:70])\n",
    "\n",
    "# Convert the bytearray to a hexadecimal string\n",
    "hex_string = byte_data.hex()\n",
    "print(hex_string)\n",
    "result_string = codecs.decode(hex_string, 'hex').decode('utf-8')\n",
    "print(result_string)"
   ]
  },
  {
   "cell_type": "code",
   "execution_count": 9,
   "metadata": {},
   "outputs": [
    {
     "name": "stdout",
     "output_type": "stream",
     "text": [
      "Bytes Out = 8\n",
      "Channels Calc  2048\n"
     ]
    }
   ],
   "source": [
    "iNumBytes = write(REQUEST_SPECTRUM_STATUS_PACKET, LIBUSB_TIMEOUT)\n",
    "print( 'Bytes Out =',iNumBytes)     # debug\n",
    "bArrArrBuffer = read(6216, LIBUSB_TIMEOUT)\n",
    "bArrStatusIn = bytearray(bArrArrBuffer)\n",
    "\n",
    "# print type(self.bArrStatusIn)\n",
    "# print self.bArrStatusIn.encode('hex')\n",
    "if len(bArrStatusIn) > 0:\n",
    "    Header = bytearray(bArrStatusIn[0:5])\n",
    "    bPID2 = Header[3]           \n",
    "    Channels = 256 *  ( 2 **  ( ( ( bPID2 - 1 )  & 14 )  // 2 ) )\n",
    "    print (\"Channels Calc \", (Channels))\n",
    "    DataRaw = bytearray(bArrStatusIn[6:Channels*3+6])"
   ]
  },
  {
   "cell_type": "code",
   "execution_count": 10,
   "metadata": {},
   "outputs": [
    {
     "name": "stdout",
     "output_type": "stream",
     "text": [
      "6144\n",
      "2048.0\n",
      "2048\n"
     ]
    }
   ],
   "source": [
    "Data=[]\n",
    "print(len(DataRaw))\n",
    "print(len(DataRaw)/3)\n",
    "for X in range(0,int(Channels)*3,3):\n",
    "    Data.append((DataRaw[X]) + (DataRaw[X + 1]) * 256 + (DataRaw[X + 2]) * 256**2)\n",
    "print(len(Data))"
   ]
  },
  {
   "cell_type": "code",
   "execution_count": 11,
   "metadata": {},
   "outputs": [
    {
     "name": "stdout",
     "output_type": "stream",
     "text": [
      "2048\n"
     ]
    },
    {
     "data": {
      "image/png": "[encoded data removed]",
      "text/plain": [
       "<Figure size 640x480 with 1 Axes>"
      ]
     },
     "metadata": {},
     "output_type": "display_data"
    }
   ],
   "source": [
    "import matplotlib.pyplot as plt\n",
    "import numpy as np\n",
    "\n",
    "print(len(Data))\n",
    "\n",
    "plt.plot(np.array(Data))\n",
    "plt.show()"
   ]
  },
  {
   "cell_type": "code",
   "execution_count": 19,
   "metadata": {},
   "outputs": [
    {
     "data": {
      "text/plain": [
       "16.0"
      ]
     },
     "execution_count": 19,
     "metadata": {},
     "output_type": "execute_result"
    }
   ],
   "source": [
    "256/2/2/2/2"
   ]
  },
  {
   "cell_type": "code",
   "execution_count": 46,
   "metadata": {},
   "outputs": [
    {
     "data": {
      "image/png": "[encoded data removed]",
      "text/plain": [
       "<Figure size 640x480 with 1 Axes>"
      ]
     },
     "metadata": {},
     "output_type": "display_data"
    }
   ],
   "source": [
    "plot= np.array(Data)\n",
    "x1=1000\n",
    "x2=1200\n",
    "plt.plot(range(x1,x2),plot[x1:x2])\n",
    "plt.show()"
   ]
  },
  {
   "cell_type": "code",
   "execution_count": 52,
   "metadata": {},
   "outputs": [
    {
     "data": {
      "text/plain": [
       "np.int64(1)"
      ]
     },
     "execution_count": 52,
     "metadata": {},
     "output_type": "execute_result"
    }
   ],
   "source": [
    "plot[1131]"
   ]
  },
  {
   "cell_type": "code",
   "execution_count": null,
   "metadata": {},
   "outputs": [],
   "source": []
  }
 ],
 "metadata": {
  "kernelspec": {
   "display_name": ".venv",
   "language": "python",
   "name": "python3"
  },
  "language_info": {
   "codemirror_mode": {
    "name": "ipython",
    "version": 3
   },
   "file_extension": ".py",
   "mimetype": "text/x-python",
   "name": "python",
   "nbconvert_exporter": "python",
   "pygments_lexer": "ipython3",
   "version": "3.11.6"
  }
 },
 "nbformat": 4,
 "nbformat_minor": 2
}
